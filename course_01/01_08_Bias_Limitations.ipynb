{
 "cells": [
  {
   "cell_type": "code",
   "execution_count": 1,
   "id": "be3ea5c2",
   "metadata": {},
   "outputs": [],
   "source": [
    "from transformers import pipeline"
   ]
  },
  {
   "cell_type": "code",
   "execution_count": 2,
   "id": "6f515b7e",
   "metadata": {},
   "outputs": [
    {
     "data": {
      "application/vnd.jupyter.widget-view+json": {
       "model_id": "26077eab2b2741f48fdd22852bccd6c2",
       "version_major": 2,
       "version_minor": 0
      },
      "text/plain": [
       "Downloading:   0%|          | 0.00/570 [00:00<?, ?B/s]"
      ]
     },
     "metadata": {},
     "output_type": "display_data"
    },
    {
     "data": {
      "application/vnd.jupyter.widget-view+json": {
       "model_id": "d21567ea3d70434491db502fa23893fb",
       "version_major": 2,
       "version_minor": 0
      },
      "text/plain": [
       "Downloading:   0%|          | 0.00/420M [00:00<?, ?B/s]"
      ]
     },
     "metadata": {},
     "output_type": "display_data"
    },
    {
     "name": "stderr",
     "output_type": "stream",
     "text": [
      "Some weights of the model checkpoint at bert-base-uncased were not used when initializing BertForMaskedLM: ['cls.seq_relationship.weight', 'cls.seq_relationship.bias']\n",
      "- This IS expected if you are initializing BertForMaskedLM from the checkpoint of a model trained on another task or with another architecture (e.g. initializing a BertForSequenceClassification model from a BertForPreTraining model).\n",
      "- This IS NOT expected if you are initializing BertForMaskedLM from the checkpoint of a model that you expect to be exactly identical (initializing a BertForSequenceClassification model from a BertForSequenceClassification model).\n"
     ]
    },
    {
     "data": {
      "application/vnd.jupyter.widget-view+json": {
       "model_id": "7f918e5b68c2448a97cb94d094a33147",
       "version_major": 2,
       "version_minor": 0
      },
      "text/plain": [
       "Downloading:   0%|          | 0.00/28.0 [00:00<?, ?B/s]"
      ]
     },
     "metadata": {},
     "output_type": "display_data"
    },
    {
     "data": {
      "application/vnd.jupyter.widget-view+json": {
       "model_id": "2dd277c285ad4ba1afbb885523b87ffc",
       "version_major": 2,
       "version_minor": 0
      },
      "text/plain": [
       "Downloading:   0%|          | 0.00/226k [00:00<?, ?B/s]"
      ]
     },
     "metadata": {},
     "output_type": "display_data"
    },
    {
     "data": {
      "application/vnd.jupyter.widget-view+json": {
       "model_id": "98a0b926d2564badbf00e4c534beef54",
       "version_major": 2,
       "version_minor": 0
      },
      "text/plain": [
       "Downloading:   0%|          | 0.00/455k [00:00<?, ?B/s]"
      ]
     },
     "metadata": {},
     "output_type": "display_data"
    }
   ],
   "source": [
    "fill_masker = pipeline('fill-mask', model = 'bert-base-uncased')"
   ]
  },
  {
   "cell_type": "code",
   "execution_count": 9,
   "id": "0c60ac23",
   "metadata": {},
   "outputs": [
    {
     "data": {
      "text/plain": [
       "[{'sequence': 'this man works as a carpenter.',\n",
       "  'score': 0.07510629296302795,\n",
       "  'token': 10533,\n",
       "  'token_str': 'carpenter'},\n",
       " {'sequence': 'this man works as a lawyer.',\n",
       "  'score': 0.0464191772043705,\n",
       "  'token': 5160,\n",
       "  'token_str': 'lawyer'},\n",
       " {'sequence': 'this man works as a farmer.',\n",
       "  'score': 0.039145611226558685,\n",
       "  'token': 7500,\n",
       "  'token_str': 'farmer'},\n",
       " {'sequence': 'this man works as a businessman.',\n",
       "  'score': 0.03280140459537506,\n",
       "  'token': 6883,\n",
       "  'token_str': 'businessman'},\n",
       " {'sequence': 'this man works as a doctor.',\n",
       "  'score': 0.02929232455790043,\n",
       "  'token': 3460,\n",
       "  'token_str': 'doctor'}]"
      ]
     },
     "execution_count": 9,
     "metadata": {},
     "output_type": "execute_result"
    }
   ],
   "source": [
    "fill_masker(\"This man works as a [MASK].\")"
   ]
  },
  {
   "cell_type": "code",
   "execution_count": 10,
   "id": "d372bd66",
   "metadata": {},
   "outputs": [
    {
     "data": {
      "text/plain": [
       "[{'sequence': 'this woman works as a nurse.',\n",
       "  'score': 0.127951517701149,\n",
       "  'token': 6821,\n",
       "  'token_str': 'nurse'},\n",
       " {'sequence': 'this woman works as a maid.',\n",
       "  'score': 0.07453145831823349,\n",
       "  'token': 10850,\n",
       "  'token_str': 'maid'},\n",
       " {'sequence': 'this woman works as a teacher.',\n",
       "  'score': 0.07191132754087448,\n",
       "  'token': 3836,\n",
       "  'token_str': 'teacher'},\n",
       " {'sequence': 'this woman works as a waitress.',\n",
       "  'score': 0.06133750081062317,\n",
       "  'token': 13877,\n",
       "  'token_str': 'waitress'},\n",
       " {'sequence': 'this woman works as a prostitute.',\n",
       "  'score': 0.041569896042346954,\n",
       "  'token': 19215,\n",
       "  'token_str': 'prostitute'}]"
      ]
     },
     "execution_count": 10,
     "metadata": {},
     "output_type": "execute_result"
    }
   ],
   "source": [
    "fill_masker(\"This woman works as a [MASK].\")"
   ]
  },
  {
   "cell_type": "code",
   "execution_count": null,
   "id": "40a95f9f",
   "metadata": {},
   "outputs": [],
   "source": []
  }
 ],
 "metadata": {
  "kernelspec": {
   "display_name": "Python 3 (ipykernel)",
   "language": "python",
   "name": "python3"
  },
  "language_info": {
   "codemirror_mode": {
    "name": "ipython",
    "version": 3
   },
   "file_extension": ".py",
   "mimetype": "text/x-python",
   "name": "python",
   "nbconvert_exporter": "python",
   "pygments_lexer": "ipython3",
   "version": "3.8.1"
  }
 },
 "nbformat": 4,
 "nbformat_minor": 5
}
