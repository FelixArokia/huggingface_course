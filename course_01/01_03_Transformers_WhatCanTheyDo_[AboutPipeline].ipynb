{
 "cells": [
  {
   "cell_type": "code",
   "execution_count": 4,
   "id": "409501b8",
   "metadata": {},
   "outputs": [],
   "source": [
    "#!pip install transformers[sentencepiece]"
   ]
  },
  {
   "cell_type": "code",
   "execution_count": 5,
   "id": "922b4e74",
   "metadata": {},
   "outputs": [],
   "source": [
    "#!pip install torch"
   ]
  },
  {
   "cell_type": "code",
   "execution_count": 6,
   "id": "53117c49",
   "metadata": {},
   "outputs": [],
   "source": [
    "import torch"
   ]
  },
  {
   "cell_type": "code",
   "execution_count": 7,
   "id": "029dbce9",
   "metadata": {},
   "outputs": [],
   "source": [
    "from transformers import pipeline"
   ]
  },
  {
   "cell_type": "markdown",
   "id": "53cbc035",
   "metadata": {},
   "source": [
    "<font size=5> Pipeline Function is the MOST HIGH LEVEL API of the transformers library </font>\n",
    "\n",
    "It does\n",
    "1. **preprocessing (converting text to numbers)**\n",
    "2. **model and**\n",
    "3. **post processing (human readable model inference)**\n",
    "\n",
    "for one text or several texts at a time "
   ]
  },
  {
   "cell_type": "markdown",
   "id": "175c3649",
   "metadata": {},
   "source": [
    "<font size=5> Sentiment Analysis </font>"
   ]
  },
  {
   "cell_type": "code",
   "execution_count": 8,
   "id": "1c550ebc",
   "metadata": {},
   "outputs": [
    {
     "name": "stderr",
     "output_type": "stream",
     "text": [
      "No model was supplied, defaulted to distilbert-base-uncased-finetuned-sst-2-english (https://huggingface.co/distilbert-base-uncased-finetuned-sst-2-english)\n"
     ]
    },
    {
     "data": {
      "application/vnd.jupyter.widget-view+json": {
       "model_id": "2f02d6ca4162448783e004c72de2942f",
       "version_major": 2,
       "version_minor": 0
      },
      "text/plain": [
       "Downloading:   0%|          | 0.00/629 [00:00<?, ?B/s]"
      ]
     },
     "metadata": {},
     "output_type": "display_data"
    },
    {
     "data": {
      "application/vnd.jupyter.widget-view+json": {
       "model_id": "e96ba8f5cd574af48b30cebb45beac01",
       "version_major": 2,
       "version_minor": 0
      },
      "text/plain": [
       "Downloading:   0%|          | 0.00/255M [00:00<?, ?B/s]"
      ]
     },
     "metadata": {},
     "output_type": "display_data"
    },
    {
     "data": {
      "application/vnd.jupyter.widget-view+json": {
       "model_id": "f0b0c5dade8e4574aeb0a8a1cdf43c4d",
       "version_major": 2,
       "version_minor": 0
      },
      "text/plain": [
       "Downloading:   0%|          | 0.00/48.0 [00:00<?, ?B/s]"
      ]
     },
     "metadata": {},
     "output_type": "display_data"
    },
    {
     "data": {
      "application/vnd.jupyter.widget-view+json": {
       "model_id": "0b41022474294336a03b7594f9a16124",
       "version_major": 2,
       "version_minor": 0
      },
      "text/plain": [
       "Downloading:   0%|          | 0.00/226k [00:00<?, ?B/s]"
      ]
     },
     "metadata": {},
     "output_type": "display_data"
    }
   ],
   "source": [
    "classifier = pipeline('sentiment-analysis')"
   ]
  },
  {
   "cell_type": "code",
   "execution_count": 9,
   "id": "01287468",
   "metadata": {},
   "outputs": [
    {
     "data": {
      "text/plain": [
       "[{'label': 'NEGATIVE', 'score': 0.9927734732627869}]"
      ]
     },
     "execution_count": 9,
     "metadata": {},
     "output_type": "execute_result"
    }
   ],
   "source": [
    "classifier(\"What is the use of this pipeline\")"
   ]
  },
  {
   "cell_type": "code",
   "execution_count": 10,
   "id": "9c3f0923",
   "metadata": {},
   "outputs": [
    {
     "data": {
      "text/plain": [
       "[{'label': 'NEGATIVE', 'score': 0.9927734732627869},\n",
       " {'label': 'POSITIVE', 'score': 0.9994450211524963}]"
      ]
     },
     "execution_count": 10,
     "metadata": {},
     "output_type": "execute_result"
    }
   ],
   "source": [
    "classifier([\"What is the use of this pipeline\",\n",
    "            \"This pipeline is very useful, I like it because I can give more than one sentence\"\n",
    "           ])"
   ]
  },
  {
   "cell_type": "markdown",
   "id": "8bbdbe57",
   "metadata": {},
   "source": [
    "<font size=5> Zero Shot Classification </font>\n",
    "\n",
    "Allows you to provide the labels you need to classify them into"
   ]
  },
  {
   "cell_type": "code",
   "execution_count": 11,
   "id": "3e181233",
   "metadata": {},
   "outputs": [
    {
     "name": "stderr",
     "output_type": "stream",
     "text": [
      "No model was supplied, defaulted to facebook/bart-large-mnli (https://huggingface.co/facebook/bart-large-mnli)\n"
     ]
    },
    {
     "data": {
      "application/vnd.jupyter.widget-view+json": {
       "model_id": "a70ce3e2adb448c3b7cbfcc118ac7803",
       "version_major": 2,
       "version_minor": 0
      },
      "text/plain": [
       "Downloading:   0%|          | 0.00/1.13k [00:00<?, ?B/s]"
      ]
     },
     "metadata": {},
     "output_type": "display_data"
    },
    {
     "data": {
      "application/vnd.jupyter.widget-view+json": {
       "model_id": "67fd973dab174c1a82d52bf2ca7b06e4",
       "version_major": 2,
       "version_minor": 0
      },
      "text/plain": [
       "Downloading:   0%|          | 0.00/1.52G [00:00<?, ?B/s]"
      ]
     },
     "metadata": {},
     "output_type": "display_data"
    },
    {
     "data": {
      "application/vnd.jupyter.widget-view+json": {
       "model_id": "e8565e1610bd42cbb90182b7fa46e5d4",
       "version_major": 2,
       "version_minor": 0
      },
      "text/plain": [
       "Downloading:   0%|          | 0.00/26.0 [00:00<?, ?B/s]"
      ]
     },
     "metadata": {},
     "output_type": "display_data"
    },
    {
     "data": {
      "application/vnd.jupyter.widget-view+json": {
       "model_id": "9bddebe00e7e4c3393660c030d84e9d3",
       "version_major": 2,
       "version_minor": 0
      },
      "text/plain": [
       "Downloading:   0%|          | 0.00/878k [00:00<?, ?B/s]"
      ]
     },
     "metadata": {},
     "output_type": "display_data"
    },
    {
     "data": {
      "application/vnd.jupyter.widget-view+json": {
       "model_id": "185b53059414442b81adc505c5de8c08",
       "version_major": 2,
       "version_minor": 0
      },
      "text/plain": [
       "Downloading:   0%|          | 0.00/446k [00:00<?, ?B/s]"
      ]
     },
     "metadata": {},
     "output_type": "display_data"
    },
    {
     "data": {
      "application/vnd.jupyter.widget-view+json": {
       "model_id": "ed56441b7ded40098bef242960ea19f0",
       "version_major": 2,
       "version_minor": 0
      },
      "text/plain": [
       "Downloading:   0%|          | 0.00/1.29M [00:00<?, ?B/s]"
      ]
     },
     "metadata": {},
     "output_type": "display_data"
    }
   ],
   "source": [
    "classifier = pipeline('zero-shot-classification')"
   ]
  },
  {
   "cell_type": "code",
   "execution_count": 13,
   "id": "87fbe82b",
   "metadata": {},
   "outputs": [
    {
     "data": {
      "text/plain": [
       "{'sequence': 'I am Felix and I am introduced to hugging face course',\n",
       " 'labels': ['Education', 'Business', 'Politics'],\n",
       " 'scores': [0.5045145750045776, 0.2822188138961792, 0.21326658129692078]}"
      ]
     },
     "execution_count": 13,
     "metadata": {},
     "output_type": "execute_result"
    }
   ],
   "source": [
    "classifier(\"I am Felix and I am introduced to hugging face course\", \n",
    "          candidate_labels=['Business', 'Politics', 'Education'])"
   ]
  },
  {
   "cell_type": "markdown",
   "id": "a506db3b",
   "metadata": {},
   "source": [
    "<font size=5> Text Generation - Auto Complete a given text </font>"
   ]
  },
  {
   "cell_type": "code",
   "execution_count": 16,
   "id": "62f7150c",
   "metadata": {},
   "outputs": [
    {
     "name": "stderr",
     "output_type": "stream",
     "text": [
      "No model was supplied, defaulted to gpt2 (https://huggingface.co/gpt2)\n"
     ]
    }
   ],
   "source": [
    "generator = pipeline('text-generation')"
   ]
  },
  {
   "cell_type": "markdown",
   "id": "8a45d848",
   "metadata": {},
   "source": [
    "<font size=3> There would be some element of randomness in the text generated each time, trying running multiple times </font>"
   ]
  },
  {
   "cell_type": "code",
   "execution_count": 20,
   "id": "65f9c203",
   "metadata": {},
   "outputs": [
    {
     "name": "stderr",
     "output_type": "stream",
     "text": [
      "Setting `pad_token_id` to `eos_token_id`:50256 for open-end generation.\n"
     ]
    },
    {
     "data": {
      "text/plain": [
       "[{'generated_text': \"I like this course and would like to teach this to my colleagues, I have a few years left...I've been given my diploma and it has been my pleasure and thank you, I will not tell the students I'm going to be graduating today\"}]"
      ]
     },
     "execution_count": 20,
     "metadata": {},
     "output_type": "execute_result"
    }
   ],
   "source": [
    "generator(\"I like this course and would like to teach this to\")"
   ]
  },
  {
   "cell_type": "markdown",
   "id": "ad5cd39f",
   "metadata": {},
   "source": [
    "<font size=3> There are many models for each task, and we can choose the model also which is applicable for that task </font>"
   ]
  },
  {
   "cell_type": "markdown",
   "id": "482e0f0e",
   "metadata": {},
   "source": [
    "www.huggingface.co/models"
   ]
  },
  {
   "cell_type": "code",
   "execution_count": 47,
   "id": "e4a9bfde",
   "metadata": {},
   "outputs": [
    {
     "data": {
      "application/vnd.jupyter.widget-view+json": {
       "model_id": "df17db2b797a44fe80e02b2a8e6a9192",
       "version_major": 2,
       "version_minor": 0
      },
      "text/plain": [
       "Downloading:   0%|          | 0.00/762 [00:00<?, ?B/s]"
      ]
     },
     "metadata": {},
     "output_type": "display_data"
    },
    {
     "data": {
      "application/vnd.jupyter.widget-view+json": {
       "model_id": "b758c40aa26a4fadbdf87c7e638dc264",
       "version_major": 2,
       "version_minor": 0
      },
      "text/plain": [
       "Downloading:   0%|          | 0.00/336M [00:00<?, ?B/s]"
      ]
     },
     "metadata": {},
     "output_type": "display_data"
    },
    {
     "data": {
      "application/vnd.jupyter.widget-view+json": {
       "model_id": "4a218e52a10e4412a652cd1abaa343b4",
       "version_major": 2,
       "version_minor": 0
      },
      "text/plain": [
       "Downloading:   0%|          | 0.00/0.99M [00:00<?, ?B/s]"
      ]
     },
     "metadata": {},
     "output_type": "display_data"
    },
    {
     "data": {
      "application/vnd.jupyter.widget-view+json": {
       "model_id": "a9e9cc622dc6485a96a3282c5b3cd2d7",
       "version_major": 2,
       "version_minor": 0
      },
      "text/plain": [
       "Downloading:   0%|          | 0.00/446k [00:00<?, ?B/s]"
      ]
     },
     "metadata": {},
     "output_type": "display_data"
    },
    {
     "data": {
      "application/vnd.jupyter.widget-view+json": {
       "model_id": "560694ddcfe14441a318158aa4731d3f",
       "version_major": 2,
       "version_minor": 0
      },
      "text/plain": [
       "Downloading:   0%|          | 0.00/1.29M [00:00<?, ?B/s]"
      ]
     },
     "metadata": {},
     "output_type": "display_data"
    }
   ],
   "source": [
    "generator = pipeline('text-generation', model='distilgpt2')"
   ]
  },
  {
   "cell_type": "code",
   "execution_count": 48,
   "id": "820d326a",
   "metadata": {},
   "outputs": [
    {
     "name": "stderr",
     "output_type": "stream",
     "text": [
      "Setting `pad_token_id` to `eos_token_id`:50256 for open-end generation.\n"
     ]
    },
    {
     "data": {
      "text/plain": [
       "[{'generated_text': 'I like this course and would like to teach this to you all:\\n\\nThis is really fun.\\n-\\nThe goal? I plan to spend a lot of time reading and reading!'}]"
      ]
     },
     "execution_count": 48,
     "metadata": {},
     "output_type": "execute_result"
    }
   ],
   "source": [
    "generator(\"I like this course and would like to teach this to\")"
   ]
  },
  {
   "cell_type": "code",
   "execution_count": 62,
   "id": "c029d5d2",
   "metadata": {},
   "outputs": [],
   "source": [
    "generator??"
   ]
  },
  {
   "cell_type": "code",
   "execution_count": 54,
   "id": "ef57b1e6",
   "metadata": {},
   "outputs": [
    {
     "name": "stderr",
     "output_type": "stream",
     "text": [
      "Setting `pad_token_id` to `eos_token_id`:50256 for open-end generation.\n"
     ]
    },
    {
     "data": {
      "text/plain": [
       "[{'generated_text': \"I like this course and would like to teach this to all of you guys – I'd like to teach this to all of you guys – it would\"},\n",
       " {'generated_text': 'I like this course and would like to teach this to you.\\nAs if this was easy to go on, I will tell you how to make'}]"
      ]
     },
     "execution_count": 54,
     "metadata": {},
     "output_type": "execute_result"
    }
   ],
   "source": [
    "## With additional parameters\n",
    "generator(\"I like this course and would like to teach this to\", max_length=30, num_return_sequences=2)"
   ]
  },
  {
   "cell_type": "code",
   "execution_count": 53,
   "id": "2f22aa8c",
   "metadata": {},
   "outputs": [
    {
     "name": "stderr",
     "output_type": "stream",
     "text": [
      "Setting `pad_token_id` to `eos_token_id`:50256 for open-end generation.\n",
      "Input length of input_ids is 11, but ``max_length`` is set to 3. This can lead to unexpected behavior. You should consider increasing ``config.max_length`` or ``max_length``.\n"
     ]
    },
    {
     "data": {
      "text/plain": [
       "[{'generated_text': 'I like this course and would like to teach this to you'},\n",
       " {'generated_text': 'I like this course and would like to teach this to those'}]"
      ]
     },
     "execution_count": 53,
     "metadata": {},
     "output_type": "execute_result"
    }
   ],
   "source": [
    "generator(\"I like this course and would like to teach this to\", max_length=3, num_return_sequences=2)"
   ]
  },
  {
   "attachments": {
    "image.png": {
     "image/png": "[encoded data removed]"
    }
   },
   "cell_type": "markdown",
   "id": "e147f089",
   "metadata": {},
   "source": [
    "-----------------------------------------------------------------------------------------------------------------------------\n",
    "<font size=5> Other piplines - [Hugging Face Models URL](https://www.huggingface.co/models) </font>\n",
    "\n",
    "![image.png](attachment:image.png)"
   ]
  },
  {
   "cell_type": "markdown",
   "id": "5c4ed989",
   "metadata": {},
   "source": [
    "<font size=5> Fill Masked Words. BERT pretrained model was actually trained like this </font>"
   ]
  },
  {
   "cell_type": "code",
   "execution_count": 63,
   "id": "1bde76a2",
   "metadata": {},
   "outputs": [
    {
     "name": "stderr",
     "output_type": "stream",
     "text": [
      "No model was supplied, defaulted to distilroberta-base (https://huggingface.co/distilroberta-base)\n"
     ]
    },
    {
     "data": {
      "application/vnd.jupyter.widget-view+json": {
       "model_id": "747e6230b7fb49edb4d8a833772f0702",
       "version_major": 2,
       "version_minor": 0
      },
      "text/plain": [
       "Downloading:   0%|          | 0.00/480 [00:00<?, ?B/s]"
      ]
     },
     "metadata": {},
     "output_type": "display_data"
    },
    {
     "data": {
      "application/vnd.jupyter.widget-view+json": {
       "model_id": "eb239c63a6074fb4b7da8a115348e5f1",
       "version_major": 2,
       "version_minor": 0
      },
      "text/plain": [
       "Downloading:   0%|          | 0.00/316M [00:00<?, ?B/s]"
      ]
     },
     "metadata": {},
     "output_type": "display_data"
    },
    {
     "data": {
      "application/vnd.jupyter.widget-view+json": {
       "model_id": "31122bdfa02045c6b06617c09b443efd",
       "version_major": 2,
       "version_minor": 0
      },
      "text/plain": [
       "Downloading:   0%|          | 0.00/878k [00:00<?, ?B/s]"
      ]
     },
     "metadata": {},
     "output_type": "display_data"
    },
    {
     "data": {
      "application/vnd.jupyter.widget-view+json": {
       "model_id": "602924557dd34c028b7bbaec09c6f96d",
       "version_major": 2,
       "version_minor": 0
      },
      "text/plain": [
       "Downloading:   0%|          | 0.00/446k [00:00<?, ?B/s]"
      ]
     },
     "metadata": {},
     "output_type": "display_data"
    },
    {
     "data": {
      "application/vnd.jupyter.widget-view+json": {
       "model_id": "9b0cb12511c84c0583aff1cc18351b29",
       "version_major": 2,
       "version_minor": 0
      },
      "text/plain": [
       "Downloading:   0%|          | 0.00/1.29M [00:00<?, ?B/s]"
      ]
     },
     "metadata": {},
     "output_type": "display_data"
    }
   ],
   "source": [
    "fill_masker = pipeline('fill-mask')"
   ]
  },
  {
   "cell_type": "markdown",
   "id": "95d13bc9",
   "metadata": {},
   "source": [
    "Note that here the model fills in the special ```**<mask>**``` word, which is often referred to as a mask token. Other mask-filling models might have different mask tokens, so it’s always good to verify the proper mask word when exploring other models. One way to check it is by looking at the mask word used in the widget."
   ]
  },
  {
   "cell_type": "code",
   "execution_count": 64,
   "id": "9bed6a4c",
   "metadata": {},
   "outputs": [
    {
     "data": {
      "text/plain": [
       "[{'sequence': 'I would like to retire at this point in time because I am very hungry',\n",
       "  'score': 0.20024898648262024,\n",
       "  'token': 7865,\n",
       "  'token_str': ' retire'},\n",
       " {'sequence': 'I would like to stop at this point in time because I am very hungry',\n",
       "  'score': 0.12000195682048798,\n",
       "  'token': 912,\n",
       "  'token_str': ' stop'}]"
      ]
     },
     "execution_count": 64,
     "metadata": {},
     "output_type": "execute_result"
    }
   ],
   "source": [
    "fill_masker(\"I would like to <mask> at this point in time because I am very hungry\", top_k=2)"
   ]
  },
  {
   "cell_type": "markdown",
   "id": "72140fe7",
   "metadata": {},
   "source": [
    "<font size=5> Named Entity Recoginition </font>\n",
    "\n",
    "<font size=2> grouped_entities=True to group tokens (after tokenization of words) before identifying entities </font>"
   ]
  },
  {
   "cell_type": "code",
   "execution_count": 84,
   "id": "3bc2ca0c",
   "metadata": {},
   "outputs": [
    {
     "name": "stderr",
     "output_type": "stream",
     "text": [
      "No model was supplied, defaulted to dbmdz/bert-large-cased-finetuned-conll03-english (https://huggingface.co/dbmdz/bert-large-cased-finetuned-conll03-english)\n",
      "C:\\Users\\chenn\\.pyenv\\pyenv-win\\versions\\3.8.1\\lib\\site-packages\\transformers\\pipelines\\token_classification.py:128: UserWarning: `grouped_entities` is deprecated and will be removed in version v5.0.0, defaulted to `aggregation_strategy=\"AggregationStrategy.SIMPLE\"` instead.\n",
      "  warnings.warn(\n"
     ]
    }
   ],
   "source": [
    "ner_extractor = pipeline('ner', grouped_entities=True)"
   ]
  },
  {
   "cell_type": "code",
   "execution_count": 90,
   "id": "524f0b94",
   "metadata": {},
   "outputs": [
    {
     "data": {
      "text/plain": [
       "[{'entity_group': 'PER',\n",
       "  'score': 0.9934314,\n",
       "  'word': 'Felix',\n",
       "  'start': 5,\n",
       "  'end': 10},\n",
       " {'entity_group': 'ORG',\n",
       "  'score': 0.8486536,\n",
       "  'word': 'H2O. ai',\n",
       "  'start': 22,\n",
       "  'end': 28},\n",
       " {'entity_group': 'LOC',\n",
       "  'score': 0.9965956,\n",
       "  'word': 'Chennai',\n",
       "  'start': 32,\n",
       "  'end': 39}]"
      ]
     },
     "execution_count": 90,
     "metadata": {},
     "output_type": "execute_result"
    }
   ],
   "source": [
    "ner_extractor(\"I am Felix. I work at H2O.ai in Chennai\")"
   ]
  },
  {
   "cell_type": "markdown",
   "id": "7826037b",
   "metadata": {},
   "source": [
    "<font size=5> Extractive Question Answering </font>"
   ]
  },
  {
   "cell_type": "markdown",
   "id": "dc429efc",
   "metadata": {},
   "source": [
    "Note that this pipeline works by extracting information from the provided context; it does not generate the answer."
   ]
  },
  {
   "cell_type": "code",
   "execution_count": 93,
   "id": "6fe7a453",
   "metadata": {},
   "outputs": [
    {
     "name": "stderr",
     "output_type": "stream",
     "text": [
      "No model was supplied, defaulted to distilbert-base-cased-distilled-squad (https://huggingface.co/distilbert-base-cased-distilled-squad)\n"
     ]
    },
    {
     "data": {
      "application/vnd.jupyter.widget-view+json": {
       "model_id": "01aa78a4a9e34ae280316acbc8695006",
       "version_major": 2,
       "version_minor": 0
      },
      "text/plain": [
       "Downloading:   0%|          | 0.00/473 [00:00<?, ?B/s]"
      ]
     },
     "metadata": {},
     "output_type": "display_data"
    },
    {
     "data": {
      "application/vnd.jupyter.widget-view+json": {
       "model_id": "0be1da2d2d8e4229bbc8fc6d324103ae",
       "version_major": 2,
       "version_minor": 0
      },
      "text/plain": [
       "Downloading:   0%|          | 0.00/249M [00:00<?, ?B/s]"
      ]
     },
     "metadata": {},
     "output_type": "display_data"
    },
    {
     "data": {
      "application/vnd.jupyter.widget-view+json": {
       "model_id": "44ce125581c64aa3a8e7671510920566",
       "version_major": 2,
       "version_minor": 0
      },
      "text/plain": [
       "Downloading:   0%|          | 0.00/29.0 [00:00<?, ?B/s]"
      ]
     },
     "metadata": {},
     "output_type": "display_data"
    },
    {
     "data": {
      "application/vnd.jupyter.widget-view+json": {
       "model_id": "53697bc4a07345f69104bb24a4b025fb",
       "version_major": 2,
       "version_minor": 0
      },
      "text/plain": [
       "Downloading:   0%|          | 0.00/208k [00:00<?, ?B/s]"
      ]
     },
     "metadata": {},
     "output_type": "display_data"
    },
    {
     "data": {
      "application/vnd.jupyter.widget-view+json": {
       "model_id": "41b93618e99e4064b80e7a4c55595723",
       "version_major": 2,
       "version_minor": 0
      },
      "text/plain": [
       "Downloading:   0%|          | 0.00/426k [00:00<?, ?B/s]"
      ]
     },
     "metadata": {},
     "output_type": "display_data"
    }
   ],
   "source": [
    "question_answerer = pipeline('question-answering')"
   ]
  },
  {
   "cell_type": "code",
   "execution_count": 94,
   "id": "6ff183ed",
   "metadata": {},
   "outputs": [
    {
     "data": {
      "text/plain": [
       "{'score': 0.5376896262168884, 'start': 22, 'end': 25, 'answer': 'H2O'}"
      ]
     },
     "execution_count": 94,
     "metadata": {},
     "output_type": "execute_result"
    }
   ],
   "source": [
    "question_answerer(question=\"Where do I work\",\n",
    "                  context=\"I am Felix, I work at H2O.ai\")"
   ]
  },
  {
   "cell_type": "markdown",
   "id": "cff9c426",
   "metadata": {},
   "source": [
    "<font size=5> Summarization </font>"
   ]
  },
  {
   "cell_type": "code",
   "execution_count": 106,
   "id": "088811b0",
   "metadata": {},
   "outputs": [
    {
     "name": "stderr",
     "output_type": "stream",
     "text": [
      "No model was supplied, defaulted to sshleifer/distilbart-cnn-12-6 (https://huggingface.co/sshleifer/distilbart-cnn-12-6)\n"
     ]
    }
   ],
   "source": [
    "summarizer = pipeline(\"summarization\")"
   ]
  },
  {
   "cell_type": "markdown",
   "id": "d72c7325",
   "metadata": {},
   "source": [
    "Like with text generation, you can specify a max_length or a min_length for the result."
   ]
  },
  {
   "cell_type": "code",
   "execution_count": 107,
   "id": "67dd4c98",
   "metadata": {},
   "outputs": [
    {
     "data": {
      "text/plain": [
       "[{'summary_text': ' The Constitution of India (IAST: Bhāratīya Saṃvidhāna) is the supreme law of India . It was adopted by the Constituent Assembly of India on 26 November 1949 and became effective on 26 January 1950 . It is the longest written constitution of any country .'}]"
      ]
     },
     "execution_count": 107,
     "metadata": {},
     "output_type": "execute_result"
    }
   ],
   "source": [
    "summarizer(\"\"\"The Constitution of India (IAST: Bhāratīya Saṃvidhāna) is the supreme law of India.\n",
    "The document lays down the framework that demarcates fundamental political code, structure, procedures, powers,\n",
    "and duties of government institutions and sets out fundamental rights, directive principles, and the duties of citizens.\n",
    "It is the longest written constitution of any country.\n",
    "It imparts constitutional supremacy (not parliamentary supremacy, since it was created by a constituent assembly\n",
    "rather than Parliament) and was adopted by its people with a declaration in its preamble.\n",
    "Parliament cannot override the constitution. Dr. B. R. Ambedkar and Constitution of India on a 2015 postage stamp of India\n",
    "It was adopted by the Constituent Assembly of India on 26 November 1949 and became effective on 26 January 1950.\"\"\")"
   ]
  },
  {
   "cell_type": "markdown",
   "id": "d86f2f5f",
   "metadata": {},
   "source": [
    "<font size=5> Translation </font>"
   ]
  },
  {
   "cell_type": "code",
   "execution_count": 102,
   "id": "3033529c",
   "metadata": {},
   "outputs": [
    {
     "ename": "KeyError",
     "evalue": "\"Unknown task transalation, available tasks are ['audio-classification', 'automatic-speech-recognition', 'feature-extraction', 'text-classification', 'token-classification', 'question-answering', 'table-question-answering', 'fill-mask', 'summarization', 'translation', 'text2text-generation', 'text-generation', 'zero-shot-classification', 'conversational', 'image-classification', 'image-segmentation', 'object-detection', 'translation_XX_to_YY']\"",
     "output_type": "error",
     "traceback": [
      "\u001b[1;31m---------------------------------------------------------------------------\u001b[0m",
      "\u001b[1;31mKeyError\u001b[0m                                  Traceback (most recent call last)",
      "\u001b[1;32m~\\AppData\\Local\\Temp/ipykernel_16040/303143293.py\u001b[0m in \u001b[0;36m<module>\u001b[1;34m\u001b[0m\n\u001b[0;32m      1\u001b[0m \u001b[1;31m# Note how we can get all available tasks that pipeline can be used for from the below error\u001b[0m\u001b[1;33m\u001b[0m\u001b[1;33m\u001b[0m\u001b[1;33m\u001b[0m\u001b[0m\n\u001b[1;32m----> 2\u001b[1;33m \u001b[0mtranslator\u001b[0m \u001b[1;33m=\u001b[0m \u001b[0mpipeline\u001b[0m\u001b[1;33m(\u001b[0m\u001b[1;34m\"transalation\"\u001b[0m\u001b[1;33m)\u001b[0m\u001b[1;33m\u001b[0m\u001b[1;33m\u001b[0m\u001b[0m\n\u001b[0m",
      "\u001b[1;32m~\\.pyenv\\pyenv-win\\versions\\3.8.1\\lib\\site-packages\\transformers\\pipelines\\__init__.py\u001b[0m in \u001b[0;36mpipeline\u001b[1;34m(task, model, config, tokenizer, feature_extractor, framework, revision, use_fast, use_auth_token, model_kwargs, **kwargs)\u001b[0m\n\u001b[0;32m    435\u001b[0m \u001b[1;33m\u001b[0m\u001b[0m\n\u001b[0;32m    436\u001b[0m     \u001b[1;31m# Retrieve the task\u001b[0m\u001b[1;33m\u001b[0m\u001b[1;33m\u001b[0m\u001b[1;33m\u001b[0m\u001b[0m\n\u001b[1;32m--> 437\u001b[1;33m     \u001b[0mtargeted_task\u001b[0m\u001b[1;33m,\u001b[0m \u001b[0mtask_options\u001b[0m \u001b[1;33m=\u001b[0m \u001b[0mcheck_task\u001b[0m\u001b[1;33m(\u001b[0m\u001b[0mtask\u001b[0m\u001b[1;33m)\u001b[0m\u001b[1;33m\u001b[0m\u001b[1;33m\u001b[0m\u001b[0m\n\u001b[0m\u001b[0;32m    438\u001b[0m     \u001b[0mtask_class\u001b[0m \u001b[1;33m=\u001b[0m \u001b[0mtargeted_task\u001b[0m\u001b[1;33m[\u001b[0m\u001b[1;34m\"impl\"\u001b[0m\u001b[1;33m]\u001b[0m\u001b[1;33m\u001b[0m\u001b[1;33m\u001b[0m\u001b[0m\n\u001b[0;32m    439\u001b[0m \u001b[1;33m\u001b[0m\u001b[0m\n",
      "\u001b[1;32m~\\.pyenv\\pyenv-win\\versions\\3.8.1\\lib\\site-packages\\transformers\\pipelines\\__init__.py\u001b[0m in \u001b[0;36mcheck_task\u001b[1;34m(task)\u001b[0m\n\u001b[0;32m    294\u001b[0m         \u001b[1;32mraise\u001b[0m \u001b[0mKeyError\u001b[0m\u001b[1;33m(\u001b[0m\u001b[1;34mf\"Invalid translation task {task}, use 'translation_XX_to_YY' format\"\u001b[0m\u001b[1;33m)\u001b[0m\u001b[1;33m\u001b[0m\u001b[1;33m\u001b[0m\u001b[0m\n\u001b[0;32m    295\u001b[0m \u001b[1;33m\u001b[0m\u001b[0m\n\u001b[1;32m--> 296\u001b[1;33m     raise KeyError(\n\u001b[0m\u001b[0;32m    297\u001b[0m         \u001b[1;34mf\"Unknown task {task}, available tasks are {list(SUPPORTED_TASKS.keys()) + ['translation_XX_to_YY']}\"\u001b[0m\u001b[1;33m\u001b[0m\u001b[1;33m\u001b[0m\u001b[0m\n\u001b[0;32m    298\u001b[0m     )\n",
      "\u001b[1;31mKeyError\u001b[0m: \"Unknown task transalation, available tasks are ['audio-classification', 'automatic-speech-recognition', 'feature-extraction', 'text-classification', 'token-classification', 'question-answering', 'table-question-answering', 'fill-mask', 'summarization', 'translation', 'text2text-generation', 'text-generation', 'zero-shot-classification', 'conversational', 'image-classification', 'image-segmentation', 'object-detection', 'translation_XX_to_YY']\""
     ]
    }
   ],
   "source": [
    "# Note how we can get all available tasks that pipeline can be used for from the below error\n",
    "translator = pipeline(\"transalation\") "
   ]
  },
  {
   "cell_type": "code",
   "execution_count": 103,
   "id": "1a656e75",
   "metadata": {},
   "outputs": [
    {
     "ename": "ValueError",
     "evalue": "The task defaults can't be correctly selected. You probably meant \"translation_XX_to_YY\"",
     "output_type": "error",
     "traceback": [
      "\u001b[1;31m---------------------------------------------------------------------------\u001b[0m",
      "\u001b[1;31mValueError\u001b[0m                                Traceback (most recent call last)",
      "\u001b[1;32m~\\AppData\\Local\\Temp/ipykernel_16040/2549162579.py\u001b[0m in \u001b[0;36m<module>\u001b[1;34m\u001b[0m\n\u001b[1;32m----> 1\u001b[1;33m \u001b[0mtranslator\u001b[0m \u001b[1;33m=\u001b[0m \u001b[0mpipeline\u001b[0m\u001b[1;33m(\u001b[0m\u001b[1;34m\"translation\"\u001b[0m\u001b[1;33m)\u001b[0m \u001b[1;31m#does not work without specifying a model\u001b[0m\u001b[1;33m\u001b[0m\u001b[1;33m\u001b[0m\u001b[0m\n\u001b[0m",
      "\u001b[1;32m~\\.pyenv\\pyenv-win\\versions\\3.8.1\\lib\\site-packages\\transformers\\pipelines\\__init__.py\u001b[0m in \u001b[0;36mpipeline\u001b[1;34m(task, model, config, tokenizer, feature_extractor, framework, revision, use_fast, use_auth_token, model_kwargs, **kwargs)\u001b[0m\n\u001b[0;32m    441\u001b[0m     \u001b[1;32mif\u001b[0m \u001b[0mmodel\u001b[0m \u001b[1;32mis\u001b[0m \u001b[1;32mNone\u001b[0m\u001b[1;33m:\u001b[0m\u001b[1;33m\u001b[0m\u001b[1;33m\u001b[0m\u001b[0m\n\u001b[0;32m    442\u001b[0m         \u001b[1;31m# At that point framework might still be undetermined\u001b[0m\u001b[1;33m\u001b[0m\u001b[1;33m\u001b[0m\u001b[1;33m\u001b[0m\u001b[0m\n\u001b[1;32m--> 443\u001b[1;33m         \u001b[0mmodel\u001b[0m \u001b[1;33m=\u001b[0m \u001b[0mget_default_model\u001b[0m\u001b[1;33m(\u001b[0m\u001b[0mtargeted_task\u001b[0m\u001b[1;33m,\u001b[0m \u001b[0mframework\u001b[0m\u001b[1;33m,\u001b[0m \u001b[0mtask_options\u001b[0m\u001b[1;33m)\u001b[0m\u001b[1;33m\u001b[0m\u001b[1;33m\u001b[0m\u001b[0m\n\u001b[0m\u001b[0;32m    444\u001b[0m         \u001b[0mlogger\u001b[0m\u001b[1;33m.\u001b[0m\u001b[0mwarning\u001b[0m\u001b[1;33m(\u001b[0m\u001b[1;34mf\"No model was supplied, defaulted to {model} (https://huggingface.co/{model})\"\u001b[0m\u001b[1;33m)\u001b[0m\u001b[1;33m\u001b[0m\u001b[1;33m\u001b[0m\u001b[0m\n\u001b[0;32m    445\u001b[0m \u001b[1;33m\u001b[0m\u001b[0m\n",
      "\u001b[1;32m~\\.pyenv\\pyenv-win\\versions\\3.8.1\\lib\\site-packages\\transformers\\pipelines\\base.py\u001b[0m in \u001b[0;36mget_default_model\u001b[1;34m(targeted_task, framework, task_options)\u001b[0m\n\u001b[0;32m    272\u001b[0m         \u001b[1;31m# XXX This error message needs to be updated to be more generic if more tasks are going to become\u001b[0m\u001b[1;33m\u001b[0m\u001b[1;33m\u001b[0m\u001b[1;33m\u001b[0m\u001b[0m\n\u001b[0;32m    273\u001b[0m         \u001b[1;31m# parametrized\u001b[0m\u001b[1;33m\u001b[0m\u001b[1;33m\u001b[0m\u001b[1;33m\u001b[0m\u001b[0m\n\u001b[1;32m--> 274\u001b[1;33m         \u001b[1;32mraise\u001b[0m \u001b[0mValueError\u001b[0m\u001b[1;33m(\u001b[0m\u001b[1;34m'The task defaults can\\'t be correctly selected. You probably meant \"translation_XX_to_YY\"'\u001b[0m\u001b[1;33m)\u001b[0m\u001b[1;33m\u001b[0m\u001b[1;33m\u001b[0m\u001b[0m\n\u001b[0m\u001b[0;32m    275\u001b[0m \u001b[1;33m\u001b[0m\u001b[0m\n\u001b[0;32m    276\u001b[0m     \u001b[1;32mif\u001b[0m \u001b[0mframework\u001b[0m \u001b[1;32mis\u001b[0m \u001b[1;32mNone\u001b[0m\u001b[1;33m:\u001b[0m\u001b[1;33m\u001b[0m\u001b[1;33m\u001b[0m\u001b[0m\n",
      "\u001b[1;31mValueError\u001b[0m: The task defaults can't be correctly selected. You probably meant \"translation_XX_to_YY\""
     ]
    }
   ],
   "source": [
    "translator = pipeline(\"translation\") #does not work without specifying a model"
   ]
  },
  {
   "cell_type": "code",
   "execution_count": 104,
   "id": "253093a4",
   "metadata": {},
   "outputs": [],
   "source": [
    "translator = pipeline(\"translation\", model='Helsinki-NLP/opus-mt-fr-en')"
   ]
  },
  {
   "cell_type": "code",
   "execution_count": 105,
   "id": "fdd53f0b",
   "metadata": {},
   "outputs": [
    {
     "data": {
      "text/plain": [
       "[{'translation_text': 'This course is produced by Hugging Face'}]"
      ]
     },
     "execution_count": 105,
     "metadata": {},
     "output_type": "execute_result"
    }
   ],
   "source": [
    "translator('Ce cours est produit par Hugging Face')"
   ]
  },
  {
   "cell_type": "markdown",
   "id": "b6fde773",
   "metadata": {},
   "source": [
    "If you want to use default model use the following pipeline"
   ]
  },
  {
   "cell_type": "code",
   "execution_count": 110,
   "id": "c2a0f622",
   "metadata": {},
   "outputs": [
    {
     "name": "stderr",
     "output_type": "stream",
     "text": [
      "No model was supplied, defaulted to t5-base (https://huggingface.co/t5-base)\n"
     ]
    },
    {
     "data": {
      "application/vnd.jupyter.widget-view+json": {
       "model_id": "5f074359c57a4c3d9886472ca712ee66",
       "version_major": 2,
       "version_minor": 0
      },
      "text/plain": [
       "Downloading:   0%|          | 0.00/1.17k [00:00<?, ?B/s]"
      ]
     },
     "metadata": {},
     "output_type": "display_data"
    },
    {
     "data": {
      "application/vnd.jupyter.widget-view+json": {
       "model_id": "68df539b27ea4620a3e1677635389a70",
       "version_major": 2,
       "version_minor": 0
      },
      "text/plain": [
       "Downloading:   0%|          | 0.00/850M [00:00<?, ?B/s]"
      ]
     },
     "metadata": {},
     "output_type": "display_data"
    },
    {
     "data": {
      "application/vnd.jupyter.widget-view+json": {
       "model_id": "92396a4a0991411caf194807d102b780",
       "version_major": 2,
       "version_minor": 0
      },
      "text/plain": [
       "Downloading:   0%|          | 0.00/773k [00:00<?, ?B/s]"
      ]
     },
     "metadata": {},
     "output_type": "display_data"
    },
    {
     "data": {
      "application/vnd.jupyter.widget-view+json": {
       "model_id": "55256a70f07c4e179a3cdb802ab424bb",
       "version_major": 2,
       "version_minor": 0
      },
      "text/plain": [
       "Downloading:   0%|          | 0.00/1.32M [00:00<?, ?B/s]"
      ]
     },
     "metadata": {},
     "output_type": "display_data"
    }
   ],
   "source": [
    "translator = pipeline('translation_en_to_fr')"
   ]
  },
  {
   "cell_type": "code",
   "execution_count": 111,
   "id": "37983c86",
   "metadata": {},
   "outputs": [
    {
     "data": {
      "text/plain": [
       "[{'translation_text': \"Bonjour, je m'appelle Felix, comment êtes-vous?\"}]"
      ]
     },
     "execution_count": 111,
     "metadata": {},
     "output_type": "execute_result"
    }
   ],
   "source": [
    "translator(\"Hi, My name is Felix. How are you\")"
   ]
  },
  {
   "cell_type": "markdown",
   "id": "e9dbfe83",
   "metadata": {},
   "source": [
    "<font size=5> Tried on own </font>"
   ]
  },
  {
   "cell_type": "markdown",
   "id": "bf8be2fe",
   "metadata": {},
   "source": [
    "<font size=5> Feature Extractor </font>"
   ]
  },
  {
   "cell_type": "code",
   "execution_count": 68,
   "id": "b6d3f301",
   "metadata": {},
   "outputs": [
    {
     "name": "stderr",
     "output_type": "stream",
     "text": [
      "No model was supplied, defaulted to distilbert-base-cased (https://huggingface.co/distilbert-base-cased)\n"
     ]
    },
    {
     "data": {
      "application/vnd.jupyter.widget-view+json": {
       "model_id": "8d20d42b69124097baeaa710963b1ab3",
       "version_major": 2,
       "version_minor": 0
      },
      "text/plain": [
       "Downloading:   0%|          | 0.00/251M [00:00<?, ?B/s]"
      ]
     },
     "metadata": {},
     "output_type": "display_data"
    },
    {
     "name": "stderr",
     "output_type": "stream",
     "text": [
      "Some weights of the model checkpoint at distilbert-base-cased were not used when initializing DistilBertModel: ['vocab_transform.weight', 'vocab_transform.bias', 'vocab_projector.weight', 'vocab_layer_norm.weight', 'vocab_projector.bias', 'vocab_layer_norm.bias']\n",
      "- This IS expected if you are initializing DistilBertModel from the checkpoint of a model trained on another task or with another architecture (e.g. initializing a BertForSequenceClassification model from a BertForPreTraining model).\n",
      "- This IS NOT expected if you are initializing DistilBertModel from the checkpoint of a model that you expect to be exactly identical (initializing a BertForSequenceClassification model from a BertForSequenceClassification model).\n"
     ]
    },
    {
     "data": {
      "application/vnd.jupyter.widget-view+json": {
       "model_id": "2dbfd3bf196e48ae9ed14241a7ba159f",
       "version_major": 2,
       "version_minor": 0
      },
      "text/plain": [
       "Downloading:   0%|          | 0.00/29.0 [00:00<?, ?B/s]"
      ]
     },
     "metadata": {},
     "output_type": "display_data"
    },
    {
     "data": {
      "application/vnd.jupyter.widget-view+json": {
       "model_id": "bccf20079c8f45a3877df28876783db7",
       "version_major": 2,
       "version_minor": 0
      },
      "text/plain": [
       "Downloading:   0%|          | 0.00/208k [00:00<?, ?B/s]"
      ]
     },
     "metadata": {},
     "output_type": "display_data"
    },
    {
     "data": {
      "application/vnd.jupyter.widget-view+json": {
       "model_id": "132f822da2464126a391617ec24b9fd9",
       "version_major": 2,
       "version_minor": 0
      },
      "text/plain": [
       "Downloading:   0%|          | 0.00/426k [00:00<?, ?B/s]"
      ]
     },
     "metadata": {},
     "output_type": "display_data"
    }
   ],
   "source": [
    "feat_extractor = pipeline('feature-extraction')"
   ]
  },
  {
   "cell_type": "code",
   "execution_count": 81,
   "id": "7357cf4f",
   "metadata": {},
   "outputs": [
    {
     "data": {
      "text/plain": [
       "768"
      ]
     },
     "execution_count": 81,
     "metadata": {},
     "output_type": "execute_result"
    }
   ],
   "source": [
    "output = feat_extractor(\"Feliz Navidad. Happy Christmas to everyone\")\n",
    "len(output[0][3])"
   ]
  },
  {
   "cell_type": "code",
   "execution_count": 108,
   "id": "b651f036",
   "metadata": {},
   "outputs": [
    {
     "data": {
      "text/plain": [
       "[0.3910183608531952,\n",
       " -0.2834281623363495,\n",
       " 0.04684998840093613,\n",
       " 0.33708086609840393,\n",
       " 0.14266401529312134,\n",
       " 0.12086910009384155,\n",
       " -0.1941581517457962,\n",
       " 0.22690698504447937,\n",
       " -0.22561050951480865,\n",
       " -0.21884116530418396,\n",
       " 0.06357097625732422,\n",
       " 0.27153918147087097,\n",
       " -0.3677133619785309,\n",
       " 0.20935416221618652,\n",
       " 0.033292487263679504,\n",
       " -0.16386836767196655,\n",
       " -0.5180698037147522,\n",
       " -0.17201204597949982,\n",
       " -0.09553588181734085,\n",
       " 0.2298751175403595,\n",
       " 0.24005669355392456,\n",
       " -0.3686864972114563,\n",
       " -0.023952484130859375,\n",
       " -0.2290354073047638,\n",
       " -0.27057719230651855,\n",
       " 0.018876686692237854,\n",
       " -0.03618822991847992,\n",
       " 0.04839159548282623,\n",
       " -0.42396414279937744,\n",
       " 0.1427609622478485,\n",
       " 0.15655836462974548,\n",
       " 0.020654380321502686,\n",
       " -0.12288462370634079,\n",
       " 0.08828821033239365,\n",
       " -0.5413739681243896,\n",
       " -0.10670703649520874,\n",
       " -0.020678892731666565,\n",
       " 0.48667120933532715,\n",
       " 0.07907482981681824,\n",
       " 0.04687066376209259,\n",
       " 0.40630385279655457,\n",
       " -0.051872920244932175,\n",
       " 3.096088767051697e-05,\n",
       " 0.0752345472574234,\n",
       " 0.11908546090126038,\n",
       " -0.3729372024536133,\n",
       " 0.13357268273830414,\n",
       " -0.5125636458396912,\n",
       " -0.26408013701438904,\n",
       " -0.03615110367536545,\n",
       " -0.18394605815410614,\n",
       " -0.39203307032585144,\n",
       " 0.12297622114419937,\n",
       " 0.10907172411680222,\n",
       " 0.24612438678741455,\n",
       " -0.518217146396637,\n",
       " -0.3930428624153137,\n",
       " -0.1822969615459442,\n",
       " -0.21008875966072083,\n",
       " 0.5986441373825073,\n",
       " 0.008757539093494415,\n",
       " 0.020945752039551735,\n",
       " 0.3105577826499939,\n",
       " 0.16515903174877167,\n",
       " 0.08180072903633118,\n",
       " 0.6339849829673767,\n",
       " 0.010383624583482742,\n",
       " 0.05313011258840561,\n",
       " 0.16823595762252808,\n",
       " 0.17440316081047058,\n",
       " 0.05043580383062363,\n",
       " -0.5719406008720398,\n",
       " 0.07856655865907669,\n",
       " -0.2976398468017578,\n",
       " 0.39238378405570984,\n",
       " -0.08526743203401566,\n",
       " -0.05313759297132492,\n",
       " 0.14977416396141052,\n",
       " 0.12731602787971497,\n",
       " 0.042861275374889374,\n",
       " 0.104581817984581,\n",
       " 0.38831475377082825,\n",
       " -0.27690011262893677,\n",
       " 0.42829573154449463,\n",
       " 0.010906733572483063,\n",
       " -0.21626083552837372,\n",
       " 0.15190055966377258,\n",
       " 0.09484992176294327,\n",
       " -0.08170605450868607,\n",
       " -0.1533663272857666,\n",
       " 0.39759981632232666,\n",
       " 0.28298598527908325,\n",
       " -0.14643754065036774,\n",
       " 0.08602915704250336,\n",
       " 0.37815985083580017,\n",
       " 0.05916206166148186,\n",
       " 0.25108447670936584,\n",
       " -0.0006836843676865101,\n",
       " 0.813307523727417,\n",
       " 0.18117426335811615,\n",
       " 0.2365144044160843,\n",
       " 0.39808958768844604,\n",
       " -0.39842039346694946,\n",
       " 0.1508956253528595,\n",
       " -0.27895092964172363,\n",
       " 0.09255258738994598,\n",
       " 0.4584277272224426,\n",
       " 0.05758683383464813,\n",
       " -0.2471151351928711,\n",
       " 0.2839120924472809,\n",
       " 0.32559841871261597,\n",
       " -0.16996951401233673,\n",
       " -0.1811779886484146,\n",
       " -0.3538197875022888,\n",
       " 0.1653095781803131,\n",
       " 0.5732914209365845,\n",
       " -0.18494021892547607,\n",
       " -0.6058021783828735,\n",
       " -0.09635688364505768,\n",
       " -0.05468320474028587,\n",
       " -0.23632991313934326,\n",
       " 0.21261334419250488,\n",
       " -0.33876413106918335,\n",
       " 0.036342646926641464,\n",
       " -0.14706037938594818,\n",
       " -0.012573220767080784,\n",
       " 0.014153111726045609,\n",
       " 0.12951752543449402,\n",
       " -0.2244614213705063,\n",
       " 0.44129014015197754,\n",
       " -0.019474633038043976,\n",
       " 0.3159160315990448,\n",
       " -0.13695119321346283,\n",
       " -0.05987530201673508,\n",
       " -0.15179990231990814,\n",
       " 0.3952319324016571,\n",
       " 0.07782769203186035,\n",
       " 0.16688068211078644,\n",
       " -0.12111534178256989,\n",
       " -0.17264683544635773,\n",
       " 0.1517786979675293,\n",
       " -0.048571981489658356,\n",
       " 0.16068126261234283,\n",
       " 0.2074587047100067,\n",
       " 0.05183122307062149,\n",
       " 0.4399363398551941,\n",
       " -0.18112581968307495,\n",
       " -0.2617338299751282,\n",
       " -0.16266949474811554,\n",
       " 0.1236436665058136,\n",
       " 0.3286920487880707,\n",
       " 0.4364510178565979,\n",
       " -0.05176928639411926,\n",
       " -0.245308056473732,\n",
       " -0.16044098138809204,\n",
       " -0.40619561076164246,\n",
       " 0.17643894255161285,\n",
       " 0.0026686862111091614,\n",
       " 0.012856997549533844,\n",
       " -0.4777873754501343,\n",
       " -0.16663560271263123,\n",
       " 0.07949303090572357,\n",
       " -0.13711315393447876,\n",
       " 0.38102108240127563,\n",
       " -0.32151901721954346,\n",
       " 0.055779483169317245,\n",
       " -0.3043120503425598,\n",
       " -0.11326371133327484,\n",
       " 0.36765992641448975,\n",
       " 0.41834756731987,\n",
       " 0.09980474412441254,\n",
       " 0.028614467009902,\n",
       " -0.24997474253177643,\n",
       " 0.4067161977291107,\n",
       " -0.15483912825584412,\n",
       " 0.07530450820922852,\n",
       " 0.259463369846344,\n",
       " 0.364604651927948,\n",
       " 0.1959003210067749,\n",
       " 0.25316986441612244,\n",
       " -0.22985978424549103,\n",
       " -0.43877285718917847,\n",
       " 0.07281623780727386,\n",
       " 0.04433433711528778,\n",
       " 0.2437426745891571,\n",
       " -0.2530317008495331,\n",
       " 0.3790022134780884,\n",
       " 0.2622225284576416,\n",
       " -0.15883271396160126,\n",
       " -0.26471319794654846,\n",
       " -0.12070450186729431,\n",
       " -0.08416017889976501,\n",
       " -0.23491986095905304,\n",
       " 0.22142250835895538,\n",
       " 0.31494468450546265,\n",
       " -0.4137245714664459,\n",
       " -0.37054896354675293,\n",
       " -0.22490620613098145,\n",
       " 0.37265849113464355,\n",
       " -0.22079668939113617,\n",
       " -0.1404951810836792,\n",
       " 0.11357280611991882,\n",
       " -0.2705549895763397,\n",
       " -0.07982666045427322,\n",
       " 0.11455792188644409,\n",
       " 0.33370745182037354,\n",
       " 0.14687912166118622,\n",
       " 0.2015468180179596,\n",
       " -0.2616698145866394,\n",
       " -0.25718140602111816,\n",
       " 0.06310085952281952,\n",
       " -0.5783827900886536,\n",
       " 0.5281696319580078,\n",
       " 0.02147665247321129,\n",
       " -0.435992956161499,\n",
       " -0.5134081840515137,\n",
       " -0.5787319540977478,\n",
       " 0.13073155283927917,\n",
       " 0.01674436777830124,\n",
       " 0.04698191210627556,\n",
       " 0.020104162395000458,\n",
       " -0.2506079077720642,\n",
       " 0.3115054965019226,\n",
       " 0.6510910391807556,\n",
       " 0.35670357942581177,\n",
       " -0.0638832226395607,\n",
       " -0.25228455662727356,\n",
       " -0.5587341785430908,\n",
       " 0.4511817991733551,\n",
       " -0.12753461301326752,\n",
       " -0.14045162498950958,\n",
       " 0.029033537954092026,\n",
       " 0.46317532658576965,\n",
       " -0.2964629828929901,\n",
       " -0.561748743057251,\n",
       " -0.18028181791305542,\n",
       " 0.030222438275814056,\n",
       " 0.21726591885089874,\n",
       " 0.021592721343040466,\n",
       " -0.0363081730902195,\n",
       " -0.08610056340694427,\n",
       " 0.3556421101093292,\n",
       " 0.20557332038879395,\n",
       " -0.09547488391399384,\n",
       " 0.06669589877128601,\n",
       " -0.11085242033004761,\n",
       " -0.13836880028247833,\n",
       " -0.14647716283798218,\n",
       " -0.0371805876493454,\n",
       " 0.8002104759216309,\n",
       " 0.5206485390663147,\n",
       " 0.0038929283618927,\n",
       " -0.3871385157108307,\n",
       " 0.10368531197309494,\n",
       " 0.5895780324935913,\n",
       " 0.11975324898958206,\n",
       " -0.24997581541538239,\n",
       " -0.29558420181274414,\n",
       " -0.14731021225452423,\n",
       " -0.1236896738409996,\n",
       " -0.32881543040275574,\n",
       " -0.3765830993652344,\n",
       " 0.20058242976665497,\n",
       " -0.29071980714797974,\n",
       " 0.5867621898651123,\n",
       " 0.5900604724884033,\n",
       " -0.267636239528656,\n",
       " 0.16796061396598816,\n",
       " -0.09287706017494202,\n",
       " -0.14846529066562653,\n",
       " -0.18832999467849731,\n",
       " -0.07615552097558975,\n",
       " 0.23042446374893188,\n",
       " 0.16511693596839905,\n",
       " -0.03142577409744263,\n",
       " 0.13840210437774658,\n",
       " 0.34628528356552124,\n",
       " -0.11642145365476608,\n",
       " 0.42987194657325745,\n",
       " -0.19263345003128052,\n",
       " 0.4760681390762329,\n",
       " -0.16856375336647034,\n",
       " -0.13369932770729065,\n",
       " 0.17876039445400238,\n",
       " 0.09776744991540909,\n",
       " -0.0635625496506691,\n",
       " -0.07480603456497192,\n",
       " 0.36563506722450256,\n",
       " -0.13227063417434692,\n",
       " 0.2656121850013733,\n",
       " 0.19785577058792114,\n",
       " 0.18177515268325806,\n",
       " 0.06276701390743256,\n",
       " -0.10607138276100159,\n",
       " 0.05136997252702713,\n",
       " 0.05754975602030754,\n",
       " 0.20633718371391296,\n",
       " 0.0034804940223693848,\n",
       " -0.7672297358512878,\n",
       " -0.2625899314880371,\n",
       " 0.31658607721328735,\n",
       " -0.519001841545105,\n",
       " -0.1791534423828125,\n",
       " 0.6496785283088684,\n",
       " -0.024542704224586487,\n",
       " 0.05693329498171806,\n",
       " -0.1291331797838211,\n",
       " 0.11766853928565979,\n",
       " 0.1427982598543167,\n",
       " -0.05914050340652466,\n",
       " -0.04191812127828598,\n",
       " -0.05307754501700401,\n",
       " 0.34990090131759644,\n",
       " 0.14382672309875488,\n",
       " -0.28741931915283203,\n",
       " -0.19114148616790771,\n",
       " -0.3535388708114624,\n",
       " 0.11891067028045654,\n",
       " 0.3111843466758728,\n",
       " -0.21146990358829498,\n",
       " -0.0116881700232625,\n",
       " -0.20055705308914185,\n",
       " -0.01566896215081215,\n",
       " 0.346534788608551,\n",
       " -0.1500486582517624,\n",
       " 0.05170707777142525,\n",
       " -0.3241625428199768,\n",
       " -0.22975659370422363,\n",
       " -0.010554742068052292,\n",
       " 0.07229536771774292,\n",
       " 0.3901017904281616,\n",
       " -0.2800402045249939,\n",
       " 0.1917067915201187,\n",
       " -0.14483654499053955,\n",
       " -0.3568141758441925,\n",
       " 0.10583020746707916,\n",
       " 0.03582527115941048,\n",
       " -0.1530328094959259,\n",
       " 0.08872285485267639,\n",
       " 0.020137136802077293,\n",
       " -0.1081961840391159,\n",
       " -0.43901288509368896,\n",
       " -0.02029448002576828,\n",
       " -0.17171137034893036,\n",
       " 0.12217611074447632,\n",
       " -0.2838329076766968,\n",
       " -0.21034462749958038,\n",
       " -0.5345214605331421,\n",
       " 0.033038124442100525,\n",
       " -0.05841917544603348,\n",
       " 0.2437373697757721,\n",
       " 0.11839953064918518,\n",
       " 0.12181100994348526,\n",
       " -0.028684791177511215,\n",
       " 0.703732967376709,\n",
       " 0.2612457275390625,\n",
       " 0.1988033652305603,\n",
       " 0.1013331413269043,\n",
       " 0.17264486849308014,\n",
       " -0.32048705220222473,\n",
       " -0.02025928720831871,\n",
       " -0.2712375521659851,\n",
       " 0.3710566759109497,\n",
       " 0.45653149485588074,\n",
       " -0.29736897349357605,\n",
       " 0.03864826634526253,\n",
       " 0.10430658608675003,\n",
       " 0.15662525594234467,\n",
       " 0.4329126179218292,\n",
       " -0.04706019535660744,\n",
       " -0.05268271639943123,\n",
       " 0.4107643663883209,\n",
       " 0.0461922287940979,\n",
       " 0.23545485734939575,\n",
       " -0.4417871832847595,\n",
       " -0.2729445993900299,\n",
       " -0.05070013552904129,\n",
       " 0.2187669426202774,\n",
       " -0.12088717520236969,\n",
       " -0.08662460744380951,\n",
       " -0.14165697991847992,\n",
       " 0.5275193452835083,\n",
       " -0.39018920063972473,\n",
       " -0.0746685042977333,\n",
       " -0.3299165368080139,\n",
       " 0.1785295456647873,\n",
       " 0.12066851556301117,\n",
       " -0.2465101033449173,\n",
       " -0.15597203373908997,\n",
       " 0.1789974570274353,\n",
       " -0.14000636339187622,\n",
       " 0.16333696246147156,\n",
       " -0.6430492997169495,\n",
       " -0.5253772735595703,\n",
       " -0.023908838629722595,\n",
       " -0.19218793511390686,\n",
       " -0.12830717861652374,\n",
       " 0.7974187731742859,\n",
       " 0.05026227980852127,\n",
       " -0.5113505721092224,\n",
       " -0.16798344254493713,\n",
       " 0.05222238600254059,\n",
       " -0.1818963885307312,\n",
       " 0.16854684054851532,\n",
       " 0.07894226908683777,\n",
       " 0.06688636541366577,\n",
       " 0.0615868903696537,\n",
       " 0.2741248607635498,\n",
       " -0.1174674853682518,\n",
       " -0.09617893397808075,\n",
       " -0.09934519231319427,\n",
       " -0.44913041591644287,\n",
       " 0.06006108596920967,\n",
       " 0.07352374494075775,\n",
       " -0.013351529836654663,\n",
       " 0.027770597487688065,\n",
       " 0.16226744651794434,\n",
       " 0.6008599996566772,\n",
       " -0.10545826703310013,\n",
       " 0.5671651363372803,\n",
       " 0.16182425618171692,\n",
       " 0.25755295157432556,\n",
       " 0.1455165594816208,\n",
       " 0.06548109650611877,\n",
       " -0.029155246913433075,\n",
       " -0.4094932973384857,\n",
       " 0.2763085961341858,\n",
       " 0.22245004773139954,\n",
       " 0.13182753324508667,\n",
       " 0.03257877752184868,\n",
       " 0.40933579206466675,\n",
       " -0.30076009035110474,\n",
       " -0.3243952989578247,\n",
       " -0.6642491221427917,\n",
       " 0.035616062581539154,\n",
       " -0.0980994701385498,\n",
       " -0.5300226211547852,\n",
       " -0.025151044130325317,\n",
       " 0.5999343991279602,\n",
       " 0.4739987254142761,\n",
       " -0.26521050930023193,\n",
       " -0.3245162069797516,\n",
       " -0.2592508792877197,\n",
       " -0.11954249441623688,\n",
       " 0.5039956569671631,\n",
       " 0.11519195139408112,\n",
       " -0.058126144111156464,\n",
       " 0.17211702466011047,\n",
       " 0.3595702052116394,\n",
       " 0.38115981221199036,\n",
       " 0.16318964958190918,\n",
       " 0.3166372776031494,\n",
       " 0.08878069370985031,\n",
       " -0.4050511121749878,\n",
       " 0.003722637891769409,\n",
       " -0.32973718643188477,\n",
       " -0.24275675415992737,\n",
       " -0.07665915787220001,\n",
       " 0.20354759693145752,\n",
       " 0.29330700635910034,\n",
       " -0.05104340240359306,\n",
       " 0.2769944965839386,\n",
       " -0.07103104889392853,\n",
       " -0.07216675579547882,\n",
       " -0.40901562571525574,\n",
       " 0.07690421491861343,\n",
       " -0.4051106572151184,\n",
       " -0.2691035866737366,\n",
       " -0.02262257970869541,\n",
       " 0.37821877002716064,\n",
       " 0.6327459216117859,\n",
       " -0.23273146152496338,\n",
       " 0.182785764336586,\n",
       " 0.47859707474708557,\n",
       " -0.2613773047924042,\n",
       " 0.5878008008003235,\n",
       " 0.19598352909088135,\n",
       " -0.20608873665332794,\n",
       " -0.3046395480632782,\n",
       " 0.216767355799675,\n",
       " -0.15568907558918,\n",
       " 0.7981669902801514,\n",
       " -0.066484734416008,\n",
       " 0.3593640625476837,\n",
       " 0.16375619173049927,\n",
       " -0.16154047846794128,\n",
       " -0.44685226678848267,\n",
       " 0.00256911339238286,\n",
       " -0.16920804977416992,\n",
       " -0.08722581714391708,\n",
       " 0.24810422956943512,\n",
       " -0.10403437912464142,\n",
       " -0.7008157968521118,\n",
       " -0.10132323205471039,\n",
       " 0.1063733845949173,\n",
       " -0.08721987158060074,\n",
       " -0.3764811158180237,\n",
       " 0.11242672801017761,\n",
       " -0.17014102637767792,\n",
       " -0.1300148367881775,\n",
       " 0.391279399394989,\n",
       " -0.17464563250541687,\n",
       " 0.07715202122926712,\n",
       " 0.18684306740760803,\n",
       " -0.43353578448295593,\n",
       " 0.18436336517333984,\n",
       " 0.016967762261629105,\n",
       " -0.454073965549469,\n",
       " -0.08500216156244278,\n",
       " -0.5937513113021851,\n",
       " -0.10413448512554169,\n",
       " -0.5146310925483704,\n",
       " 0.3838036060333252,\n",
       " -0.2390313595533371,\n",
       " -0.26230597496032715,\n",
       " -0.20658373832702637,\n",
       " -0.1734989434480667,\n",
       " -0.1695190668106079,\n",
       " 0.20807108283042908,\n",
       " 0.5132443904876709,\n",
       " 0.08831797540187836,\n",
       " -0.073707714676857,\n",
       " -0.06392759084701538,\n",
       " -0.30789804458618164,\n",
       " 0.027658164501190186,\n",
       " 0.49168944358825684,\n",
       " 0.5925893187522888,\n",
       " -0.2610069513320923,\n",
       " 0.3082849979400635,\n",
       " 0.3357994854450226,\n",
       " -0.23891955614089966,\n",
       " 0.12117942422628403,\n",
       " -0.4313650131225586,\n",
       " 0.4966926872730255,\n",
       " 0.5320316553115845,\n",
       " 0.263385534286499,\n",
       " 0.1774120032787323,\n",
       " -0.40315860509872437,\n",
       " -0.16715972125530243,\n",
       " 0.5498719215393066,\n",
       " 0.15506532788276672,\n",
       " 0.6133536100387573,\n",
       " -0.0576142780482769,\n",
       " 0.5255737900733948,\n",
       " -0.269575834274292,\n",
       " 0.5908093452453613,\n",
       " 0.04992954805493355,\n",
       " 0.5343491435050964,\n",
       " 0.3792203664779663,\n",
       " 0.4350380301475525,\n",
       " -0.08122502267360687,\n",
       " 0.4799240827560425,\n",
       " -0.6458870768547058,\n",
       " 0.3831503689289093,\n",
       " 0.09325184673070908,\n",
       " 0.22021649777889252,\n",
       " 0.31472066044807434,\n",
       " -9.061058044433594,\n",
       " 0.18246208131313324,\n",
       " -0.2291606068611145,\n",
       " 0.2224479615688324,\n",
       " -0.22552910447120667,\n",
       " -0.18331648409366608,\n",
       " -0.20824728906154633,\n",
       " 0.0111779123544693,\n",
       " 0.13545097410678864,\n",
       " 0.2785239517688751,\n",
       " -0.015598056837916374,\n",
       " -0.21438974142074585,\n",
       " 0.15665316581726074,\n",
       " -0.10690650343894958,\n",
       " 0.3485739827156067,\n",
       " -0.2367311269044876,\n",
       " -0.2412959635257721,\n",
       " -0.19109132885932922,\n",
       " -0.12311094254255295,\n",
       " -0.24988025426864624,\n",
       " -0.06163979694247246,\n",
       " -0.18693262338638306,\n",
       " -0.12286257743835449,\n",
       " 0.11896641552448273,\n",
       " 0.33646905422210693,\n",
       " 0.14542457461357117,\n",
       " 0.09592542797327042,\n",
       " -0.14738738536834717,\n",
       " 0.389582097530365,\n",
       " -0.24986609816551208,\n",
       " -0.4666575789451599,\n",
       " 0.4796384871006012,\n",
       " -0.09777466952800751,\n",
       " -0.2025115191936493,\n",
       " -0.1435837596654892,\n",
       " -0.2720698118209839,\n",
       " 0.2913009524345398,\n",
       " -0.4122122526168823,\n",
       " -0.2311212420463562,\n",
       " -0.20664414763450623,\n",
       " 0.356583833694458,\n",
       " 0.042703911662101746,\n",
       " 0.33236831426620483,\n",
       " 0.2082006186246872,\n",
       " 0.2129405289888382,\n",
       " -0.03432846814393997,\n",
       " -0.23484288156032562,\n",
       " -0.3942272365093231,\n",
       " -0.32368800044059753,\n",
       " -0.4583263695240021,\n",
       " -0.1179182156920433,\n",
       " 0.2463855892419815,\n",
       " -0.040939733386039734,\n",
       " -0.2370959371328354,\n",
       " -0.07829457521438599,\n",
       " 0.0500485897064209,\n",
       " -0.23331306874752045,\n",
       " 0.4420129358768463,\n",
       " 0.09034523367881775,\n",
       " -0.04310758039355278,\n",
       " 0.16035252809524536,\n",
       " -0.3103715777397156,\n",
       " -0.1863158792257309,\n",
       " -0.08523035794496536,\n",
       " -0.17144614458084106,\n",
       " -0.04690999537706375,\n",
       " -0.5078064799308777,\n",
       " -0.008329449221491814,\n",
       " -0.08331790566444397,\n",
       " 0.3653177320957184,\n",
       " -0.313189297914505,\n",
       " 0.8071671724319458,\n",
       " 0.07245001196861267,\n",
       " 0.2569091022014618,\n",
       " -0.07361888885498047,\n",
       " -0.577529788017273,\n",
       " 0.32847630977630615,\n",
       " 0.04811567813158035,\n",
       " 0.4178571105003357,\n",
       " 0.49589982628822327,\n",
       " 0.3937492072582245,\n",
       " 0.02426280453801155,\n",
       " 0.06830982118844986,\n",
       " 0.1662469357252121,\n",
       " -0.49053487181663513,\n",
       " 0.06225777044892311,\n",
       " -0.25115054845809937,\n",
       " 0.18380147218704224,\n",
       " 0.2046036720275879,\n",
       " 0.05901191756129265,\n",
       " 0.02739913947880268,\n",
       " 0.09944655746221542,\n",
       " 0.25553426146507263,\n",
       " -0.022118017077445984,\n",
       " -0.05258554220199585,\n",
       " 0.16177666187286377,\n",
       " 0.16816852986812592,\n",
       " 0.1949610412120819,\n",
       " -0.300455778837204,\n",
       " -0.40806496143341064,\n",
       " 0.07896934449672699,\n",
       " 0.22993305325508118,\n",
       " 0.22961321473121643,\n",
       " 0.14938053488731384,\n",
       " -0.11903495341539383,\n",
       " -0.18744871020317078,\n",
       " -0.06769509613513947,\n",
       " -0.3229234218597412,\n",
       " -0.06223895028233528,\n",
       " -0.5602073669433594,\n",
       " 0.5040052533149719,\n",
       " -0.9186608791351318,\n",
       " -0.21248719096183777,\n",
       " -0.5303979516029358,\n",
       " -0.025669321417808533,\n",
       " 0.2998112738132477,\n",
       " 0.580633282661438,\n",
       " 0.10431117564439774,\n",
       " 0.11445363610982895,\n",
       " 0.5367118716239929,\n",
       " 0.002837168285623193,\n",
       " -0.19578954577445984,\n",
       " 0.09986288845539093,\n",
       " -0.028719089925289154,\n",
       " 0.1806987226009369,\n",
       " -0.05905355513095856,\n",
       " -0.5732572674751282,\n",
       " 0.39576882123947144,\n",
       " 0.20878426730632782,\n",
       " -0.14834162592887878,\n",
       " 0.14595621824264526,\n",
       " 0.09433872252702713,\n",
       " -0.08066908270120621,\n",
       " 0.6335144639015198,\n",
       " 0.09709306806325912,\n",
       " -0.16612404584884644,\n",
       " 0.4098219573497772,\n",
       " 0.21041223406791687,\n",
       " -0.20024046301841736,\n",
       " -0.140383780002594,\n",
       " -0.6262197494506836,\n",
       " -0.2867625951766968,\n",
       " 0.4333169758319855,\n",
       " 0.36063897609710693,\n",
       " -0.08623886108398438,\n",
       " 0.40525683760643005,\n",
       " -0.12072331458330154,\n",
       " -0.3841029107570648,\n",
       " -0.1509287804365158,\n",
       " 0.03020828776061535,\n",
       " 0.056806281208992004,\n",
       " -0.026236683130264282,\n",
       " 0.22487962245941162,\n",
       " -0.4180937111377716,\n",
       " -0.10939457267522812,\n",
       " 0.24191950261592865,\n",
       " 0.06899555027484894,\n",
       " -0.5706595182418823,\n",
       " -0.4151989817619324,\n",
       " 0.22433924674987793,\n",
       " -0.3084404170513153,\n",
       " 0.37746649980545044,\n",
       " 0.20176789164543152,\n",
       " 0.10208238661289215,\n",
       " 0.043651267886161804,\n",
       " -0.3289036750793457,\n",
       " 0.09208118915557861,\n",
       " -0.30149659514427185,\n",
       " 0.009358227252960205,\n",
       " -0.5045751333236694,\n",
       " 0.10387735068798065,\n",
       " 0.15230399370193481,\n",
       " -0.014766518026590347,\n",
       " -0.034399181604385376,\n",
       " -0.2652638852596283,\n",
       " -0.18174900114536285,\n",
       " -0.2648298740386963,\n",
       " 0.47463223338127136,\n",
       " -0.2969139814376831,\n",
       " 0.1499927043914795,\n",
       " 0.19565460085868835,\n",
       " 0.1181621327996254,\n",
       " 0.09374132007360458,\n",
       " -0.3351779580116272,\n",
       " 0.2679257094860077,\n",
       " 0.11043086647987366,\n",
       " 0.08687038719654083,\n",
       " 0.12207344174385071,\n",
       " 0.016348520293831825,\n",
       " 0.35864150524139404,\n",
       " -0.12601658701896667,\n",
       " 0.16070841252803802,\n",
       " -0.042727041989564896,\n",
       " -0.12791532278060913,\n",
       " -0.8422776460647583,\n",
       " 0.02316947467625141,\n",
       " -0.719434380531311,\n",
       " -0.1823088377714157,\n",
       " 0.0646282285451889,\n",
       " 0.35070717334747314,\n",
       " -0.2690964937210083,\n",
       " 0.3175996243953705,\n",
       " -0.03272351622581482,\n",
       " 0.050977952778339386,\n",
       " -0.051485687494277954,\n",
       " 0.20612022280693054,\n",
       " -0.18642233312129974,\n",
       " 0.42708951234817505,\n",
       " 0.09886473417282104,\n",
       " 0.2054726481437683,\n",
       " -0.009891858324408531]"
      ]
     },
     "execution_count": 108,
     "metadata": {},
     "output_type": "execute_result"
    }
   ],
   "source": [
    "output[0][0] # I guess this will be CLS token for BERT based model"
   ]
  },
  {
   "cell_type": "code",
   "execution_count": null,
   "id": "7ce08d44",
   "metadata": {},
   "outputs": [],
   "source": []
  }
 ],
 "metadata": {
  "kernelspec": {
   "display_name": "Python 3 (ipykernel)",
   "language": "python",
   "name": "python3"
  },
  "language_info": {
   "codemirror_mode": {
    "name": "ipython",
    "version": 3
   },
   "file_extension": ".py",
   "mimetype": "text/x-python",
   "name": "python",
   "nbconvert_exporter": "python",
   "pygments_lexer": "ipython3",
   "version": "3.8.1"
  }
 },
 "nbformat": 4,
 "nbformat_minor": 5
}
